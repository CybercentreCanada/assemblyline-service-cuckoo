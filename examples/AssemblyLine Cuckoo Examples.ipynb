{
 "cells": [
  {
   "cell_type": "markdown",
   "metadata": {},
   "source": [
    "This notebook is intended to demonstrate how to leverage some of the more advanced Cuckoo Sandbox features using the AssemblyLine Cuckoo Service."
   ]
  },
  {
   "cell_type": "code",
   "execution_count": null,
   "metadata": {},
   "outputs": [],
   "source": [
    "import assemblyline_client\n",
    "import getpass"
   ]
  },
  {
   "cell_type": "code",
   "execution_count": null,
   "metadata": {},
   "outputs": [],
   "source": [
    "assemblyline_client.Client?"
   ]
  },
  {
   "cell_type": "code",
   "execution_count": null,
   "metadata": {},
   "outputs": [],
   "source": [
    "# Replace the server, username and password\n",
    "c = assemblyline_client.Client(raw_input(\"AL server\"), auth=(raw_input(\"AL username\"), getpass.getpass(\"AL Password\")))"
   ]
  },
  {
   "cell_type": "markdown",
   "metadata": {},
   "source": [
    "# Submit a EXE along with DLL\n",
    "\n",
    "Or any kind of submission that needs additional support files (encrypted blobs, etc)\n",
    "\n",
    "For example, [this blog post](https://community.rsa.com/thread/185439) details a PlugX sample that maintains persistence using 3 files:\n",
    "\n",
    "* rc.exe - SHA256: 83be17ad26522c9e0e6b28c8638c6548908baeb1e945db77b747ff85e74fea3c\n",
    "* rcdll.dll - SHA256: 773a32d2c553b069ec7c49fe5285084de8da72924f4da2a1f789ae4dd8ef6717\n",
    "* rc.hlp - SHA256: 6be2f82275c5062d88698ad3a3dd15bb15bec4c416a49b84626bed0910e877a7\n",
    "\n",
    "(This example is somewhat contrived since the original PDF executes fine in Cuckoo, and drops and executes those three files)\n",
    "\n",
    "If you get those three files and place them into a zip file, you can submit it to AssemblyLine to be examined by the Cuckoo service as shown in code below. \n",
    "\n",
    "We're just making use of (built in Cuckoo features)[https://github.com/cuckoosandbox/cuckoo/blob/master/cuckoo/data/analyzer/windows/modules/packages/zip.py] to specify a file within a zip to execute.\n",
    "\n",
    "**NB**\n",
    "\n",
    "* The same options can be provided via the `al-submit` command line script as well.\n",
    "* If the Extract AssemblyLine service is also selected, the zip file **will not** make it to Cuckoo. Extract will unzip and submit the files individually."
   ]
  },
  {
   "cell_type": "code",
   "execution_count": null,
   "metadata": {},
   "outputs": [],
   "source": [
    "c.submit(\"/path/to/file.zip\",\n",
    "        params = {\n",
    "            \"selected\": [\"Cuckoo\"]\n",
    "        },\n",
    "        srv_spec = {\n",
    "            \"Cuckoo\": {\n",
    "                \"custom_options\": \"file=rc.exe\"\n",
    "            }\n",
    "        })"
   ]
  },
  {
   "cell_type": "code",
   "execution_count": null,
   "metadata": {},
   "outputs": [],
   "source": []
  }
 ],
 "metadata": {
  "kernelspec": {
   "display_name": "Python 2",
   "language": "python",
   "name": "python2"
  },
  "language_info": {
   "codemirror_mode": {
    "name": "ipython",
    "version": 2
   },
   "file_extension": ".py",
   "mimetype": "text/x-python",
   "name": "python",
   "nbconvert_exporter": "python",
   "pygments_lexer": "ipython2",
   "version": "2.7.15rc1"
  },
  "toc": {
   "base_numbering": 1,
   "nav_menu": {},
   "number_sections": true,
   "sideBar": true,
   "skip_h1_title": false,
   "title_cell": "Table of Contents",
   "title_sidebar": "Contents",
   "toc_cell": false,
   "toc_position": {
    "height": "calc(100% - 180px)",
    "left": "10px",
    "top": "150px",
    "width": "211px"
   },
   "toc_section_display": true,
   "toc_window_display": true
  }
 },
 "nbformat": 4,
 "nbformat_minor": 2
}
